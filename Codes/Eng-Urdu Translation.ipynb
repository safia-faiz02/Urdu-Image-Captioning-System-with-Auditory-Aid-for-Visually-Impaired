{
 "cells": [
  {
   "cell_type": "code",
   "execution_count": null,
   "id": "930c950d-776a-48a8-8148-e5ddc824b318",
   "metadata": {},
   "outputs": [],
   "source": [
    "import pandas as pd\n",
    "from deep_translator import GoogleTranslator     # deep translator library\n",
    "# from translate import Translator                 # translator library, provides limited translations per day"
   ]
  },
  {
   "cell_type": "markdown",
   "id": "bdc20b85-5891-4068-8161-2e2e95cc07c7",
   "metadata": {},
   "source": [
    "### Translator library"
   ]
  },
  {
   "cell_type": "code",
   "execution_count": null,
   "id": "a2f18623-54ab-45cc-bb86-fe92d9b4bf62",
   "metadata": {},
   "outputs": [],
   "source": [
    "# def translate_Translator(row):\n",
    "#     translator = Translator(to_lang = 'ur')\n",
    "#     eng_caption = row['caption']\n",
    "#     row['urdu_caption'] = translator.translate(eng_caption)\n",
    "#     return row"
   ]
  },
  {
   "cell_type": "markdown",
   "id": "b68a24b5-0a86-4842-9325-f398c5f8473e",
   "metadata": {},
   "source": [
    "### Deep Translator Library"
   ]
  },
  {
   "cell_type": "code",
   "execution_count": null,
   "id": "76d7e4e4-23e2-418e-b8ac-85cac580ab14",
   "metadata": {},
   "outputs": [],
   "source": [
    "def translate_DeepTranslator(row):\n",
    "    eng_caption = row['caption']\n",
    "    row['urdu_caption'] = GoogleTranslator(source='auto', target='ur').translate(eng_caption)\n",
    "    return row"
   ]
  },
  {
   "cell_type": "code",
   "execution_count": null,
   "id": "c0593896-9683-4059-904e-815dcbd6c8fb",
   "metadata": {},
   "outputs": [],
   "source": [
    "coco_train = pd.read_csv(\"COCO_train_captions.csv\")\n",
    "coco_train"
   ]
  },
  {
   "cell_type": "code",
   "execution_count": null,
   "id": "6a7c9ab2-7b92-4459-b7b2-c86d0e6bec33",
   "metadata": {},
   "outputs": [],
   "source": [
    "ct1 = coco_train.iloc[:5000].apply(translate_DeepTranslator, axis = 1)\n",
    "ct1"
   ]
  }
 ],
 "metadata": {
  "kernelspec": {
   "display_name": "Python 3 (ipykernel)",
   "language": "python",
   "name": "python3"
  },
  "language_info": {
   "codemirror_mode": {
    "name": "ipython",
    "version": 3
   },
   "file_extension": ".py",
   "mimetype": "text/x-python",
   "name": "python",
   "nbconvert_exporter": "python",
   "pygments_lexer": "ipython3",
   "version": "3.12.0"
  }
 },
 "nbformat": 4,
 "nbformat_minor": 5
}
